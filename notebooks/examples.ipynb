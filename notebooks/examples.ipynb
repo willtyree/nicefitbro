{
 "cells": [
  {
   "cell_type": "code",
   "execution_count": 1,
   "id": "62bc2998-5f7b-4f31-a2da-b55d4d7917fa",
   "metadata": {
    "tags": []
   },
   "outputs": [
    {
     "ename": "ModuleNotFoundError",
     "evalue": "No module named 'nicefitbro.data_prep.ingestors.local_ingestor_'",
     "output_type": "error",
     "traceback": [
      "\u001b[0;31m---------------------------------------------------------------------------\u001b[0m",
      "\u001b[0;31mModuleNotFoundError\u001b[0m                       Traceback (most recent call last)",
      "Cell \u001b[0;32mIn[1], line 1\u001b[0m\n\u001b[0;32m----> 1\u001b[0m \u001b[38;5;28;01mfrom\u001b[39;00m \u001b[38;5;21;01mnicefitbro\u001b[39;00m\u001b[38;5;21;01m.\u001b[39;00m\u001b[38;5;21;01mdata_prep\u001b[39;00m\u001b[38;5;21;01m.\u001b[39;00m\u001b[38;5;21;01mingestors\u001b[39;00m\u001b[38;5;21;01m.\u001b[39;00m\u001b[38;5;21;01mlocal_ingestor_\u001b[39;00m \u001b[38;5;28;01mimport\u001b[39;00m LocalFileIngestor\n\u001b[1;32m      2\u001b[0m \u001b[38;5;28;01mfrom\u001b[39;00m \u001b[38;5;21;01mnicefitbro\u001b[39;00m\u001b[38;5;21;01m.\u001b[39;00m\u001b[38;5;21;01mdata_prep\u001b[39;00m\u001b[38;5;21;01m.\u001b[39;00m\u001b[38;5;21;01mfeature_engineering\u001b[39;00m\u001b[38;5;21;01m.\u001b[39;00m\u001b[38;5;21;01mcategorical_encoding\u001b[39;00m \u001b[38;5;28;01mimport\u001b[39;00m CategoricalEncoder\n\u001b[1;32m      3\u001b[0m \u001b[38;5;28;01mfrom\u001b[39;00m \u001b[38;5;21;01mnicefitbro\u001b[39;00m\u001b[38;5;21;01m.\u001b[39;00m\u001b[38;5;21;01mdata_prep\u001b[39;00m\u001b[38;5;21;01m.\u001b[39;00m\u001b[38;5;21;01mfeature_engineering\u001b[39;00m\u001b[38;5;21;01m.\u001b[39;00m\u001b[38;5;21;01mcorrelation_analysis\u001b[39;00m \u001b[38;5;28;01mimport\u001b[39;00m CorrelationAnalysis\n",
      "\u001b[0;31mModuleNotFoundError\u001b[0m: No module named 'nicefitbro.data_prep.ingestors.local_ingestor_'"
     ]
    }
   ],
   "source": [
    "from nicefitbro.data_prep.ingestors.local_ingestor_ import LocalFileIngestor\n",
    "from nicefitbro.data_prep.feature_engineering.categorical_encoding import CategoricalEncoder\n",
    "from nicefitbro.data_prep.feature_engineering.correlation_analysis import CorrelationAnalysis\n",
    "from nicefitbro.data_prep.feature_engineering.feature_scaling import FeatureScaler\n",
    "from nicefitbro.data_prep.feature_engineering.feature_selection import FeatureSelection\n",
    "from nicefitbro.data_prep.feature_engineering.feature_transformations import FeatureTransformer"
   ]
  }
 ],
 "metadata": {
  "kernelspec": {
   "display_name": "Python 3 (ipykernel)",
   "language": "python",
   "name": "python3"
  },
  "language_info": {
   "codemirror_mode": {
    "name": "ipython",
    "version": 3
   },
   "file_extension": ".py",
   "mimetype": "text/x-python",
   "name": "python",
   "nbconvert_exporter": "python",
   "pygments_lexer": "ipython3",
   "version": "3.10.6"
  }
 },
 "nbformat": 4,
 "nbformat_minor": 5
}
