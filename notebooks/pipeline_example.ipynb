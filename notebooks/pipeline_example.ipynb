{
 "cells": [
  {
   "cell_type": "code",
   "execution_count": 1,
   "id": "47685328-68eb-455d-8efe-fca38e3f489e",
   "metadata": {
    "tags": []
   },
   "outputs": [],
   "source": [
    "from nicefitbro.ingestors.local_ingestor import LocalFileIngestor\n",
    "from nicefitbro.preprocess.missing_value_processor import MissingValuePreprocessor\n",
    "from nicefitbro.preprocess.outlier_detector import OutlierDetector\n",
    "from nicefitbro.feature_engineering.categorical_encoding import CategoricalEncoder\n",
    "from nicefitbro.feature_engineering.correlation_analysis import CorrelationAnalysis\n",
    "from nicefitbro.feature_engineering.feature_scaling import FeatureScaler\n",
    "from nicefitbro.feature_engineering.feature_selection import FeatureSelection\n",
    "from nicefitbro.feature_engineering.feature_transformations import FeatureTransformer\n",
    "from nicefitbro.pipeliners.fe_pipeliner import FtEngineeringPipeliner\n",
    "from nicefitbro.pipeliners.preprocessor_pipeliner import PreprocessorPipeliner\n",
    "from nicefitbro.pipeliners.prepper import DataPrepper\n",
    "from nicefitbro.models.auto_model import AutoModel\n",
    "from nicefitbro.config.run_config import RunConfig"
   ]
  },
  {
   "cell_type": "markdown",
   "id": "3ffeccdf-f8db-4f0e-919b-24cf4fec668f",
   "metadata": {},
   "source": [
    "## Config"
   ]
  },
  {
   "cell_type": "code",
   "execution_count": 2,
   "id": "1cceb08e-49fc-420c-a448-823737ddac55",
   "metadata": {
    "tags": []
   },
   "outputs": [],
   "source": [
    "run_config = RunConfig(\n",
    "    target = \"medv\",\n",
    "    file_path = \"../data/boston_housing.csv\",\n",
    "    missing_value_method = 'median',\n",
    "    outlier_detector_method = 'lof',\n",
    "    feature_transformer_method = 'log',\n",
    "    feature_transformer_features = [\"dis\",\"rm\",\"crim\"],\n",
    "    feature_scaler_method = 'minmax',\n",
    "    model_types = [\n",
    "        \"lr\",\"ridge\",\"lasso\",\n",
    "        \"elastic\", \"bayesridge\",\n",
    "        \"knn\", \"dtr\",\"rfr\", \n",
    "        \"gbr\", \"xgb\", \"poly\"\n",
    "    ],\n",
    ")"
   ]
  },
  {
   "cell_type": "markdown",
   "id": "eeef4240-cbdc-4289-9a20-e84be390688c",
   "metadata": {},
   "source": [
    "# Preprocessor Pipeline Example"
   ]
  },
  {
   "cell_type": "markdown",
   "id": "6af2725e-e45e-4b0d-a03a-0a1bfec96702",
   "metadata": {},
   "source": [
    "First define your target, filepath, and the method of data ingestion."
   ]
  },
  {
   "cell_type": "code",
   "execution_count": 3,
   "id": "e8ea1f2e-7549-4068-b608-281529b846ae",
   "metadata": {
    "tags": []
   },
   "outputs": [],
   "source": [
    "local_file_ingestor = LocalFileIngestor()"
   ]
  },
  {
   "cell_type": "markdown",
   "id": "6bd9c9f5-cc24-4a85-bd9f-f386f8377129",
   "metadata": {},
   "source": [
    "Next, define the preprocessing steps you'd like to perform."
   ]
  },
  {
   "cell_type": "code",
   "execution_count": 4,
   "id": "14e29190-7061-4547-a4c7-b0d3c64f1963",
   "metadata": {
    "tags": []
   },
   "outputs": [],
   "source": [
    "missing_value_preprocessor = MissingValuePreprocessor(method=run_config.missing_value_method)\n",
    "outlier_detector = OutlierDetector(method=run_config.outlier_detector_method)"
   ]
  },
  {
   "cell_type": "markdown",
   "id": "53bb6c0e-8bb7-4b1a-8821-6a6011bcaf46",
   "metadata": {},
   "source": [
    "Then define the feature engineering steps you'd like to perform"
   ]
  },
  {
   "cell_type": "code",
   "execution_count": 5,
   "id": "dc02e9d7-62c3-43ab-9491-6235d2d269b0",
   "metadata": {
    "tags": []
   },
   "outputs": [],
   "source": [
    "feature_transformer = FeatureTransformer(features=run_config.feature_transformer_features, method=run_config.feature_transformer_method)\n",
    "feature_selector = FeatureSelection(k=run_config.feature_selector_k)\n",
    "feature_scaler = FeatureScaler(method=run_config.feature_scaler_method)"
   ]
  },
  {
   "cell_type": "markdown",
   "id": "fa7dbe42-4955-4ce1-aa4f-f1909c88d1c8",
   "metadata": {},
   "source": [
    "Create the pipeliner objects."
   ]
  },
  {
   "cell_type": "code",
   "execution_count": 6,
   "id": "a842ac52-1688-448b-bfc6-486000626022",
   "metadata": {
    "tags": []
   },
   "outputs": [],
   "source": [
    "preprocessor_pipeliner = PreprocessorPipeliner([missing_value_preprocessor, outlier_detector])\n",
    "fe_pipeliner = FtEngineeringPipeliner([feature_transformer, feature_scaler])"
   ]
  },
  {
   "cell_type": "markdown",
   "id": "13142f93-baac-4015-ab42-a0965c69a4e3",
   "metadata": {},
   "source": [
    "And create a DataPrepper object that takes in an import method, a preprocessing pipeline, and a feature engineering pipeline."
   ]
  },
  {
   "cell_type": "code",
   "execution_count": 7,
   "id": "de36df7e-3d7a-4c99-990d-6b8d03009c4e",
   "metadata": {
    "tags": []
   },
   "outputs": [],
   "source": [
    "data_prepper = DataPrepper(local_file_ingestor, preprocessor_pipeliner, fe_pipeliner, run_config.target)"
   ]
  },
  {
   "cell_type": "markdown",
   "id": "8d5aa008-b478-4b1b-bf88-5e59df5e4b7a",
   "metadata": {},
   "source": [
    "Execute the pipeline."
   ]
  },
  {
   "cell_type": "code",
   "execution_count": 8,
   "id": "c1dc8695-0261-4aa2-9fc6-05bdad6b0753",
   "metadata": {
    "tags": []
   },
   "outputs": [
    {
     "name": "stderr",
     "output_type": "stream",
     "text": [
      "/home/timboslice/Projects/Platforms/nicefitbro/src/nicefitbro/feature_engineering/feature_transformations.py:67: SettingWithCopyWarning: \n",
      "A value is trying to be set on a copy of a slice from a DataFrame.\n",
      "Try using .loc[row_indexer,col_indexer] = value instead\n",
      "\n",
      "See the caveats in the documentation: https://pandas.pydata.org/pandas-docs/stable/user_guide/indexing.html#returning-a-view-versus-a-copy\n",
      "  data[col] = features_transformed[col]\n"
     ]
    }
   ],
   "source": [
    "processed_data = data_prepper.load_and_preprocess_data(run_config.file_path)"
   ]
  },
  {
   "cell_type": "markdown",
   "id": "988715ef-4964-484c-ad2b-740cff57ec56",
   "metadata": {},
   "source": [
    "View processed dataset."
   ]
  },
  {
   "cell_type": "code",
   "execution_count": 10,
   "id": "7b8b61f9-9728-41b6-954c-f06848240b40",
   "metadata": {},
   "outputs": [
    {
     "data": {
      "text/html": [
       "<div>\n",
       "<style scoped>\n",
       "    .dataframe tbody tr th:only-of-type {\n",
       "        vertical-align: middle;\n",
       "    }\n",
       "\n",
       "    .dataframe tbody tr th {\n",
       "        vertical-align: top;\n",
       "    }\n",
       "\n",
       "    .dataframe thead th {\n",
       "        text-align: right;\n",
       "    }\n",
       "</style>\n",
       "<table border=\"1\" class=\"dataframe\">\n",
       "  <thead>\n",
       "    <tr style=\"text-align: right;\">\n",
       "      <th></th>\n",
       "      <th>crim</th>\n",
       "      <th>zn</th>\n",
       "      <th>indus</th>\n",
       "      <th>chas</th>\n",
       "      <th>nox</th>\n",
       "      <th>rm</th>\n",
       "      <th>age</th>\n",
       "      <th>dis</th>\n",
       "      <th>rad</th>\n",
       "      <th>tax</th>\n",
       "      <th>ptratio</th>\n",
       "      <th>b</th>\n",
       "      <th>lstat</th>\n",
       "      <th>medv</th>\n",
       "    </tr>\n",
       "  </thead>\n",
       "  <tbody>\n",
       "    <tr>\n",
       "      <th>0</th>\n",
       "      <td>0.000000</td>\n",
       "      <td>0.18</td>\n",
       "      <td>0.067815</td>\n",
       "      <td>0.0</td>\n",
       "      <td>0.314815</td>\n",
       "      <td>0.665067</td>\n",
       "      <td>0.641607</td>\n",
       "      <td>0.511192</td>\n",
       "      <td>0.000000</td>\n",
       "      <td>0.206501</td>\n",
       "      <td>0.287234</td>\n",
       "      <td>1.000000</td>\n",
       "      <td>0.089680</td>\n",
       "      <td>0.414414</td>\n",
       "    </tr>\n",
       "    <tr>\n",
       "      <th>1</th>\n",
       "      <td>0.004795</td>\n",
       "      <td>0.00</td>\n",
       "      <td>0.242302</td>\n",
       "      <td>0.0</td>\n",
       "      <td>0.172840</td>\n",
       "      <td>0.638140</td>\n",
       "      <td>0.782698</td>\n",
       "      <td>0.604462</td>\n",
       "      <td>0.043478</td>\n",
       "      <td>0.103250</td>\n",
       "      <td>0.553191</td>\n",
       "      <td>1.000000</td>\n",
       "      <td>0.204470</td>\n",
       "      <td>0.360360</td>\n",
       "    </tr>\n",
       "    <tr>\n",
       "      <th>2</th>\n",
       "      <td>0.004791</td>\n",
       "      <td>0.00</td>\n",
       "      <td>0.242302</td>\n",
       "      <td>0.0</td>\n",
       "      <td>0.172840</td>\n",
       "      <td>0.766601</td>\n",
       "      <td>0.599382</td>\n",
       "      <td>0.604462</td>\n",
       "      <td>0.043478</td>\n",
       "      <td>0.103250</td>\n",
       "      <td>0.553191</td>\n",
       "      <td>0.989737</td>\n",
       "      <td>0.063466</td>\n",
       "      <td>0.655405</td>\n",
       "    </tr>\n",
       "    <tr>\n",
       "      <th>3</th>\n",
       "      <td>0.005937</td>\n",
       "      <td>0.00</td>\n",
       "      <td>0.063050</td>\n",
       "      <td>0.0</td>\n",
       "      <td>0.150206</td>\n",
       "      <td>0.736302</td>\n",
       "      <td>0.441813</td>\n",
       "      <td>0.703314</td>\n",
       "      <td>0.086957</td>\n",
       "      <td>0.065010</td>\n",
       "      <td>0.648936</td>\n",
       "      <td>0.994276</td>\n",
       "      <td>0.033389</td>\n",
       "      <td>0.626126</td>\n",
       "    </tr>\n",
       "    <tr>\n",
       "      <th>4</th>\n",
       "      <td>0.014047</td>\n",
       "      <td>0.00</td>\n",
       "      <td>0.063050</td>\n",
       "      <td>0.0</td>\n",
       "      <td>0.150206</td>\n",
       "      <td>0.760500</td>\n",
       "      <td>0.528321</td>\n",
       "      <td>0.703314</td>\n",
       "      <td>0.086957</td>\n",
       "      <td>0.065010</td>\n",
       "      <td>0.648936</td>\n",
       "      <td>1.000000</td>\n",
       "      <td>0.099338</td>\n",
       "      <td>0.689189</td>\n",
       "    </tr>\n",
       "    <tr>\n",
       "      <th>...</th>\n",
       "      <td>...</td>\n",
       "      <td>...</td>\n",
       "      <td>...</td>\n",
       "      <td>...</td>\n",
       "      <td>...</td>\n",
       "      <td>...</td>\n",
       "      <td>...</td>\n",
       "      <td>...</td>\n",
       "      <td>...</td>\n",
       "      <td>...</td>\n",
       "      <td>...</td>\n",
       "      <td>...</td>\n",
       "      <td>...</td>\n",
       "      <td>...</td>\n",
       "    </tr>\n",
       "    <tr>\n",
       "      <th>461</th>\n",
       "      <td>0.012647</td>\n",
       "      <td>0.00</td>\n",
       "      <td>0.420455</td>\n",
       "      <td>0.0</td>\n",
       "      <td>0.386831</td>\n",
       "      <td>0.668178</td>\n",
       "      <td>0.681771</td>\n",
       "      <td>0.287877</td>\n",
       "      <td>0.000000</td>\n",
       "      <td>0.162524</td>\n",
       "      <td>0.893617</td>\n",
       "      <td>0.987619</td>\n",
       "      <td>0.219095</td>\n",
       "      <td>0.378378</td>\n",
       "    </tr>\n",
       "    <tr>\n",
       "      <th>462</th>\n",
       "      <td>0.008821</td>\n",
       "      <td>0.00</td>\n",
       "      <td>0.420455</td>\n",
       "      <td>0.0</td>\n",
       "      <td>0.386831</td>\n",
       "      <td>0.583858</td>\n",
       "      <td>0.760041</td>\n",
       "      <td>0.254728</td>\n",
       "      <td>0.000000</td>\n",
       "      <td>0.162524</td>\n",
       "      <td>0.893617</td>\n",
       "      <td>1.000000</td>\n",
       "      <td>0.202815</td>\n",
       "      <td>0.337838</td>\n",
       "    </tr>\n",
       "    <tr>\n",
       "      <th>463</th>\n",
       "      <td>0.012238</td>\n",
       "      <td>0.00</td>\n",
       "      <td>0.420455</td>\n",
       "      <td>0.0</td>\n",
       "      <td>0.386831</td>\n",
       "      <td>0.732691</td>\n",
       "      <td>0.907312</td>\n",
       "      <td>0.232913</td>\n",
       "      <td>0.000000</td>\n",
       "      <td>0.162524</td>\n",
       "      <td>0.893617</td>\n",
       "      <td>1.000000</td>\n",
       "      <td>0.107892</td>\n",
       "      <td>0.412162</td>\n",
       "    </tr>\n",
       "    <tr>\n",
       "      <th>464</th>\n",
       "      <td>0.022693</td>\n",
       "      <td>0.00</td>\n",
       "      <td>0.420455</td>\n",
       "      <td>0.0</td>\n",
       "      <td>0.386831</td>\n",
       "      <td>0.702431</td>\n",
       "      <td>0.889804</td>\n",
       "      <td>0.272550</td>\n",
       "      <td>0.000000</td>\n",
       "      <td>0.162524</td>\n",
       "      <td>0.893617</td>\n",
       "      <td>0.991301</td>\n",
       "      <td>0.131071</td>\n",
       "      <td>0.369369</td>\n",
       "    </tr>\n",
       "    <tr>\n",
       "      <th>465</th>\n",
       "      <td>0.009296</td>\n",
       "      <td>0.00</td>\n",
       "      <td>0.420455</td>\n",
       "      <td>0.0</td>\n",
       "      <td>0.386831</td>\n",
       "      <td>0.567182</td>\n",
       "      <td>0.802266</td>\n",
       "      <td>0.292312</td>\n",
       "      <td>0.000000</td>\n",
       "      <td>0.162524</td>\n",
       "      <td>0.893617</td>\n",
       "      <td>1.000000</td>\n",
       "      <td>0.169702</td>\n",
       "      <td>0.141892</td>\n",
       "    </tr>\n",
       "  </tbody>\n",
       "</table>\n",
       "<p>466 rows × 14 columns</p>\n",
       "</div>"
      ],
      "text/plain": [
       "         crim    zn     indus  chas       nox        rm       age       dis  \\\n",
       "0    0.000000  0.18  0.067815   0.0  0.314815  0.665067  0.641607  0.511192   \n",
       "1    0.004795  0.00  0.242302   0.0  0.172840  0.638140  0.782698  0.604462   \n",
       "2    0.004791  0.00  0.242302   0.0  0.172840  0.766601  0.599382  0.604462   \n",
       "3    0.005937  0.00  0.063050   0.0  0.150206  0.736302  0.441813  0.703314   \n",
       "4    0.014047  0.00  0.063050   0.0  0.150206  0.760500  0.528321  0.703314   \n",
       "..        ...   ...       ...   ...       ...       ...       ...       ...   \n",
       "461  0.012647  0.00  0.420455   0.0  0.386831  0.668178  0.681771  0.287877   \n",
       "462  0.008821  0.00  0.420455   0.0  0.386831  0.583858  0.760041  0.254728   \n",
       "463  0.012238  0.00  0.420455   0.0  0.386831  0.732691  0.907312  0.232913   \n",
       "464  0.022693  0.00  0.420455   0.0  0.386831  0.702431  0.889804  0.272550   \n",
       "465  0.009296  0.00  0.420455   0.0  0.386831  0.567182  0.802266  0.292312   \n",
       "\n",
       "          rad       tax   ptratio         b     lstat      medv  \n",
       "0    0.000000  0.206501  0.287234  1.000000  0.089680  0.414414  \n",
       "1    0.043478  0.103250  0.553191  1.000000  0.204470  0.360360  \n",
       "2    0.043478  0.103250  0.553191  0.989737  0.063466  0.655405  \n",
       "3    0.086957  0.065010  0.648936  0.994276  0.033389  0.626126  \n",
       "4    0.086957  0.065010  0.648936  1.000000  0.099338  0.689189  \n",
       "..        ...       ...       ...       ...       ...       ...  \n",
       "461  0.000000  0.162524  0.893617  0.987619  0.219095  0.378378  \n",
       "462  0.000000  0.162524  0.893617  1.000000  0.202815  0.337838  \n",
       "463  0.000000  0.162524  0.893617  1.000000  0.107892  0.412162  \n",
       "464  0.000000  0.162524  0.893617  0.991301  0.131071  0.369369  \n",
       "465  0.000000  0.162524  0.893617  1.000000  0.169702  0.141892  \n",
       "\n",
       "[466 rows x 14 columns]"
      ]
     },
     "execution_count": 10,
     "metadata": {},
     "output_type": "execute_result"
    }
   ],
   "source": [
    "processed_data"
   ]
  },
  {
   "cell_type": "markdown",
   "id": "0f47f03c-6c8d-4e74-a8bf-171f363364f1",
   "metadata": {},
   "source": [
    "## AutoML"
   ]
  },
  {
   "cell_type": "code",
   "execution_count": 9,
   "id": "bc22eee6-6567-47db-aef8-452448212e0b",
   "metadata": {
    "tags": []
   },
   "outputs": [
    {
     "data": {
      "text/plain": [
       "{'lr': {'R2': 0.6479612630397704, 'RMSE': 0.08449673880995816},\n",
       " 'ridge': {'R2': 0.6724268497478131, 'RMSE': 0.08150774330671319},\n",
       " 'lasso': {'R2': -0.202785091895185, 'RMSE': 0.156184790242858},\n",
       " 'elastic': {'R2': 0.36289725727480415, 'RMSE': 0.11367094166392348},\n",
       " 'bayesridge': {'R2': 0.6563192907049062, 'RMSE': 0.0834876618481901},\n",
       " 'knn': {'R2': 0.6812685213593017, 'RMSE': 0.08040021297064938},\n",
       " 'dtr': {'R2': 0.6925346393526808, 'RMSE': 0.07896648698562989},\n",
       " 'rfr': {'R2': 0.8385891504732534, 'RMSE': 0.05721515542400262},\n",
       " 'gbr': {'R2': 0.836598059800736, 'RMSE': 0.0575669638522388},\n",
       " 'xgb': {'R2': 0.8688426542657365, 'RMSE': 0.051575212968683316},\n",
       " 'poly': {'R2': 0.7152781023609055, 'RMSE': 0.07598977439849326}}"
      ]
     },
     "execution_count": 9,
     "metadata": {},
     "output_type": "execute_result"
    }
   ],
   "source": [
    "am = AutoModel(processed_data, run_config.model_types, run_config.target)\n",
    "\n",
    "am.auto_model()"
   ]
  }
 ],
 "metadata": {
  "kernelspec": {
   "display_name": "Python 3 (ipykernel)",
   "language": "python",
   "name": "python3"
  },
  "language_info": {
   "codemirror_mode": {
    "name": "ipython",
    "version": 3
   },
   "file_extension": ".py",
   "mimetype": "text/x-python",
   "name": "python",
   "nbconvert_exporter": "python",
   "pygments_lexer": "ipython3",
   "version": "3.10.6"
  }
 },
 "nbformat": 4,
 "nbformat_minor": 5
}
