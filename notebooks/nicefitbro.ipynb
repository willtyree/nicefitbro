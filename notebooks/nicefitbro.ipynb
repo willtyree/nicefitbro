{
 "cells": [
  {
   "cell_type": "code",
   "execution_count": 1,
   "id": "577e7021-0a31-456e-a2cf-9934f1c3d75d",
   "metadata": {
    "tags": []
   },
   "outputs": [
    {
     "name": "stderr",
     "output_type": "stream",
     "text": [
      "/home/timboslice/Projects/Platforms/nicefitbro/src/nicefitbro/feature_engineering/feature_transformations.py:67: SettingWithCopyWarning: \n",
      "A value is trying to be set on a copy of a slice from a DataFrame.\n",
      "Try using .loc[row_indexer,col_indexer] = value instead\n",
      "\n",
      "See the caveats in the documentation: https://pandas.pydata.org/pandas-docs/stable/user_guide/indexing.html#returning-a-view-versus-a-copy\n",
      "  data[col] = features_transformed[col]\n"
     ]
    }
   ],
   "source": [
    "from nicefitbro.nicefitbro import NiceFitBro\n",
    "from nicefitbro.config.run_config import RunConfig\n",
    "\n",
    "run_config = RunConfig(\n",
    "    target = \"medv\",\n",
    "    file_path = \"../data/boston_housing.csv\",\n",
    "    missing_value_method = 'median',\n",
    "    outlier_detector_method = 'lof',\n",
    "    feature_transformer_method = 'log',\n",
    "    feature_transformer_features = [\"dis\",\"rm\",\"crim\"],\n",
    "    feature_scaler_method = 'minmax',\n",
    "    model_types = [\n",
    "        \"lr\",\"ridge\",\"lasso\",\n",
    "        \"elastic\", \"bayesridge\",\n",
    "        \"knn\", \"dtr\",\"rfr\", \n",
    "        \"gbr\", \"xgb\", \"poly\"\n",
    "    ],\n",
    ")\n",
    "\n",
    "nfb = NiceFitBro(run_config=run_config)\n",
    "\n",
    "trained_models, trained_models_performance = nfb.sendit()"
   ]
  },
  {
   "cell_type": "code",
   "execution_count": 2,
   "id": "31e70970-4e02-4a0a-bd10-794738315b17",
   "metadata": {
    "tags": []
   },
   "outputs": [
    {
     "data": {
      "text/plain": [
       "{'lr': LinearRegression(),\n",
       " 'ridge': Ridge(),\n",
       " 'lasso': Lasso(alpha=0.1),\n",
       " 'elastic': ElasticNet(alpha=0.1, l1_ratio=0.1),\n",
       " 'bayesridge': BayesianRidge(),\n",
       " 'knn': KNeighborsRegressor(n_neighbors=3),\n",
       " 'dtr': DecisionTreeRegressor(max_depth=7),\n",
       " 'rfr': RandomForestRegressor(max_depth=7),\n",
       " 'gbr': GradientBoostingRegressor(max_depth=7, n_estimators=150),\n",
       " 'xgb': XGBRegressor(base_score=None, booster=None, callbacks=None,\n",
       "              colsample_bylevel=None, colsample_bynode=None,\n",
       "              colsample_bytree=None, early_stopping_rounds=None,\n",
       "              enable_categorical=False, eval_metric=None, feature_types=None,\n",
       "              gamma=None, gpu_id=None, grow_policy=None, importance_type=None,\n",
       "              interaction_constraints=None, learning_rate=None, max_bin=None,\n",
       "              max_cat_threshold=None, max_cat_to_onehot=None,\n",
       "              max_delta_step=None, max_depth=5, max_leaves=None,\n",
       "              min_child_weight=None, missing=nan, monotone_constraints=None,\n",
       "              n_estimators=100, n_jobs=None, num_parallel_tree=None,\n",
       "              predictor=None, random_state=None, ...),\n",
       " 'poly': Pipeline(steps=[('poly', PolynomialFeatures()), ('linear', LinearRegression())])}"
      ]
     },
     "execution_count": 2,
     "metadata": {},
     "output_type": "execute_result"
    }
   ],
   "source": [
    "trained_models"
   ]
  },
  {
   "cell_type": "code",
   "execution_count": 3,
   "id": "50b95005-6395-49fd-81ea-16b80b16cc81",
   "metadata": {
    "tags": []
   },
   "outputs": [
    {
     "data": {
      "text/plain": [
       "{'lr': {'R2': 0.6479612630397704, 'RMSE': 0.08449673880995816},\n",
       " 'ridge': {'R2': 0.6724268497478131, 'RMSE': 0.08150774330671319},\n",
       " 'lasso': {'R2': -0.202785091895185, 'RMSE': 0.156184790242858},\n",
       " 'elastic': {'R2': 0.36289725727480415, 'RMSE': 0.11367094166392348},\n",
       " 'bayesridge': {'R2': 0.6563192907049062, 'RMSE': 0.0834876618481901},\n",
       " 'knn': {'R2': 0.6812685213593017, 'RMSE': 0.08040021297064938},\n",
       " 'dtr': {'R2': 0.7276602894338404, 'RMSE': 0.0743190596906982},\n",
       " 'rfr': {'R2': 0.8475446001137013, 'RMSE': 0.05560529205352427},\n",
       " 'gbr': {'R2': 0.8440006153451649, 'RMSE': 0.056247880599931584},\n",
       " 'xgb': {'R2': 0.8688426542657365, 'RMSE': 0.051575212968683316},\n",
       " 'poly': {'R2': 0.7152781023609055, 'RMSE': 0.07598977439849326}}"
      ]
     },
     "execution_count": 3,
     "metadata": {},
     "output_type": "execute_result"
    }
   ],
   "source": [
    "trained_models_performance"
   ]
  }
 ],
 "metadata": {
  "kernelspec": {
   "display_name": "Python 3 (ipykernel)",
   "language": "python",
   "name": "python3"
  },
  "language_info": {
   "codemirror_mode": {
    "name": "ipython",
    "version": 3
   },
   "file_extension": ".py",
   "mimetype": "text/x-python",
   "name": "python",
   "nbconvert_exporter": "python",
   "pygments_lexer": "ipython3",
   "version": "3.10.6"
  }
 },
 "nbformat": 4,
 "nbformat_minor": 5
}
