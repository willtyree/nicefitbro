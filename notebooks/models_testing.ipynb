{
 "cells": [
  {
   "cell_type": "code",
   "execution_count": 1,
   "id": "e361fb96-6abb-45da-aa2f-43a099f173d1",
   "metadata": {
    "tags": []
   },
   "outputs": [
    {
     "name": "stdout",
     "output_type": "stream",
     "text": [
      "lr\n",
      "ridge\n",
      "lasso\n",
      "elastic\n",
      "bayesridge\n",
      "sgd\n"
     ]
    },
    {
     "name": "stderr",
     "output_type": "stream",
     "text": [
      "/home/timboslice/.local/share/virtualenvs/nicefitbro-SkxpV1LV/lib/python3.10/site-packages/sklearn/model_selection/_validation.py:378: FitFailedWarning: \n",
      "15 fits failed out of a total of 30.\n",
      "The score on these train-test partitions for these parameters will be set to nan.\n",
      "If these failures are not expected, you can try to debug them by setting error_score='raise'.\n",
      "\n",
      "Below are more details about the failures:\n",
      "--------------------------------------------------------------------------------\n",
      "15 fits failed with the following error:\n",
      "Traceback (most recent call last):\n",
      "  File \"/home/timboslice/.local/share/virtualenvs/nicefitbro-SkxpV1LV/lib/python3.10/site-packages/sklearn/model_selection/_validation.py\", line 686, in _fit_and_score\n",
      "    estimator.fit(X_train, y_train, **fit_params)\n",
      "  File \"/home/timboslice/.local/share/virtualenvs/nicefitbro-SkxpV1LV/lib/python3.10/site-packages/sklearn/linear_model/_stochastic_gradient.py\", line 1583, in fit\n",
      "    self._validate_params()\n",
      "  File \"/home/timboslice/.local/share/virtualenvs/nicefitbro-SkxpV1LV/lib/python3.10/site-packages/sklearn/base.py\", line 581, in _validate_params\n",
      "    validate_parameter_constraints(\n",
      "  File \"/home/timboslice/.local/share/virtualenvs/nicefitbro-SkxpV1LV/lib/python3.10/site-packages/sklearn/utils/_param_validation.py\", line 97, in validate_parameter_constraints\n",
      "    raise InvalidParameterError(\n",
      "sklearn.utils._param_validation.InvalidParameterError: The 'loss' parameter of SGDRegressor must be a str among {'squared_epsilon_insensitive', 'huber', 'epsilon_insensitive', 'squared_error'}. Got 'squared_loss' instead.\n",
      "\n",
      "  warnings.warn(some_fits_failed_message, FitFailedWarning)\n",
      "/home/timboslice/.local/share/virtualenvs/nicefitbro-SkxpV1LV/lib/python3.10/site-packages/sklearn/model_selection/_search.py:952: UserWarning: One or more of the test scores are non-finite: [        nan -5.31919422         nan -5.95189767         nan -5.94281564]\n",
      "  warnings.warn(\n"
     ]
    },
    {
     "name": "stdout",
     "output_type": "stream",
     "text": [
      "knn\n",
      "gpr\n",
      "dtr\n",
      "rfr\n",
      "gbr\n",
      "xgb\n",
      "poly\n"
     ]
    },
    {
     "data": {
      "text/plain": [
       "{'lr': {'R2': 0.7261570836552491, 'RMSE': 4.552364598463049},\n",
       " 'ridge': {'R2': 0.7255285568016758, 'RMSE': 4.5575859193316495},\n",
       " 'lasso': {'R2': 0.7092688666374571, 'RMSE': 4.690639456440541},\n",
       " 'elastic': {'R2': 0.7092688666374571, 'RMSE': 4.690639456440541},\n",
       " 'bayesridge': {'R2': 0.7109084094872568, 'RMSE': 4.677394611643454},\n",
       " 'sgd': {'R2': -13.654842385723143, 'RMSE': 33.302501590500285},\n",
       " 'knn': {'R2': 0.6142568210665578, 'RMSE': 5.403005496623177},\n",
       " 'gpr': {'R2': -5.998411781847469, 'RMSE': 23.013677772719916},\n",
       " 'dtr': {'R2': 0.7968260274091775, 'RMSE': 3.921211953692875},\n",
       " 'rfr': {'R2': 0.8576250702295638, 'RMSE': 3.28248721469905},\n",
       " 'gbr': {'R2': 0.8862931547051862, 'RMSE': 2.9334560579036246},\n",
       " 'xgb': {'R2': 0.8792051082510656, 'RMSE': 3.023504130404677},\n",
       " 'poly': {'R2': 0.4405111485516239, 'RMSE': 6.507017882920199}}"
      ]
     },
     "execution_count": 1,
     "metadata": {},
     "output_type": "execute_result"
    }
   ],
   "source": [
    "from nicefitbro.models.factory.model_factory import ModelFactory\n",
    "from nicefitbro.models.tune.tuner import HyperparameterTuner\n",
    "from nicefitbro.ingestors.local_ingestor import LocalFileIngestor\n",
    "\n",
    "target = \"medv\"\n",
    "file_path = \"../data/boston_housing.csv\"\n",
    "local_file_ingestor = LocalFileIngestor()\n",
    "boston_housing = local_file_ingestor.ingest_data(file_path)\n",
    "\n",
    "mf = ModelFactory(\n",
    "    model_types=[\n",
    "        \"lr\",\"ridge\",\"lasso\",\n",
    "        \"elastic\", \"bayesridge\", \"sgd\",\n",
    "        \"knn\", \"gpr\", \"dtr\",\n",
    "        \"rfr\", \"gbr\", \"xgb\", \"poly\"\n",
    "    ]\n",
    ")\n",
    "\n",
    "ht = HyperparameterTuner(data=boston_housing, model_factory=mf, target=target)\n",
    "\n",
    "trained_models = ht.train_and_tune_models()\n",
    "\n",
    "ht.evaluate_trained_models()\n",
    "\n",
    "ht.trained_model_performance"
   ]
  }
 ],
 "metadata": {
  "kernelspec": {
   "display_name": "Python 3 (ipykernel)",
   "language": "python",
   "name": "python3"
  },
  "language_info": {
   "codemirror_mode": {
    "name": "ipython",
    "version": 3
   },
   "file_extension": ".py",
   "mimetype": "text/x-python",
   "name": "python",
   "nbconvert_exporter": "python",
   "pygments_lexer": "ipython3",
   "version": "3.10.6"
  }
 },
 "nbformat": 4,
 "nbformat_minor": 5
}
