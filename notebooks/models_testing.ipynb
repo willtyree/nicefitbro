{
 "cells": [
  {
   "cell_type": "code",
   "execution_count": 1,
   "id": "e361fb96-6abb-45da-aa2f-43a099f173d1",
   "metadata": {
    "tags": []
   },
   "outputs": [],
   "source": [
    "from nicefitbro.models.factory.model_factory import ModelFactory"
   ]
  },
  {
   "cell_type": "code",
   "execution_count": 2,
   "id": "cbdc0cea-2f56-4490-9cb3-2d75c3d46a1c",
   "metadata": {
    "tags": []
   },
   "outputs": [],
   "source": [
    "mf = ModelFactory(model_types=[\n",
    "    \"lr\",\"ridge\",\"lasso\",\n",
    "    \"elastic\", \"bayesridge\", \"sgd\",\n",
    "    \"knn\", \"gpr\", \"dtr\",\n",
    "    \"rfr\", \"])"
   ]
  },
  {
   "cell_type": "code",
   "execution_count": 4,
   "id": "ee07e2ed-a08d-4b16-bfd3-2189d0aec2c9",
   "metadata": {
    "tags": []
   },
   "outputs": [],
   "source": [
    "models_to_train = mf.get_models_to_train_and_tune()"
   ]
  },
  {
   "cell_type": "code",
   "execution_count": 6,
   "id": "399e70df-297a-48cb-9002-91da6dbf024b",
   "metadata": {
    "tags": []
   },
   "outputs": [
    {
     "data": {
      "text/plain": [
       "{'models': {'lr': LinearRegression(),\n",
       "  'ridge': Ridge(),\n",
       "  'lasso': Lasso(),\n",
       "  'elastic': ElasticNet()},\n",
       " 'hyperparameters': {'lr': {},\n",
       "  'ridge': {'alpha': [0.1, 1.0, 10.0]},\n",
       "  'lasso': {'alpha': [0.1, 1.0, 10.0]},\n",
       "  'elastic': {'alpha': [0.1, 1.0, 10.0], 'l1_ratio': [0.1, 0.5, 1.0]}}}"
      ]
     },
     "execution_count": 6,
     "metadata": {},
     "output_type": "execute_result"
    }
   ],
   "source": [
    "models_to_train"
   ]
  }
 ],
 "metadata": {
  "kernelspec": {
   "display_name": "Python 3 (ipykernel)",
   "language": "python",
   "name": "python3"
  },
  "language_info": {
   "codemirror_mode": {
    "name": "ipython",
    "version": 3
   },
   "file_extension": ".py",
   "mimetype": "text/x-python",
   "name": "python",
   "nbconvert_exporter": "python",
   "pygments_lexer": "ipython3",
   "version": "3.10.6"
  }
 },
 "nbformat": 4,
 "nbformat_minor": 5
}
