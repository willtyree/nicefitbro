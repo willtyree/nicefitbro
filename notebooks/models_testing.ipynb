{
 "cells": [
  {
   "cell_type": "code",
   "execution_count": 1,
   "id": "e361fb96-6abb-45da-aa2f-43a099f173d1",
   "metadata": {
    "tags": []
   },
   "outputs": [
    {
     "data": {
      "text/plain": [
       "{'models': {'lr': LinearRegression(),\n",
       "  'ridge': Ridge(),\n",
       "  'lasso': Lasso(),\n",
       "  'elastic': ElasticNet(),\n",
       "  'bayesridge': BayesianRidge(),\n",
       "  'sgd': SGDRegressor(),\n",
       "  'knn': KNeighborsRegressor(),\n",
       "  'gpr': GaussianProcessRegressor(),\n",
       "  'dtr': DecisionTreeRegressor(),\n",
       "  'rfr': RandomForestRegressor(),\n",
       "  'gbr': GradientBoostingRegressor(),\n",
       "  'xgb': XGBRegressor(base_score=None, booster=None, callbacks=None,\n",
       "               colsample_bylevel=None, colsample_bynode=None,\n",
       "               colsample_bytree=None, early_stopping_rounds=None,\n",
       "               enable_categorical=False, eval_metric=None, feature_types=None,\n",
       "               gamma=None, gpu_id=None, grow_policy=None, importance_type=None,\n",
       "               interaction_constraints=None, learning_rate=None, max_bin=None,\n",
       "               max_cat_threshold=None, max_cat_to_onehot=None,\n",
       "               max_delta_step=None, max_depth=None, max_leaves=None,\n",
       "               min_child_weight=None, missing=nan, monotone_constraints=None,\n",
       "               n_estimators=100, n_jobs=None, num_parallel_tree=None,\n",
       "               predictor=None, random_state=None, ...),\n",
       "  'poly': Pipeline(steps=[('poly', PolynomialFeatures()), ('linear', LinearRegression())])},\n",
       " 'hyperparameters': {'lr': {},\n",
       "  'ridge': {'alpha': [0.1, 1.0, 10.0]},\n",
       "  'lasso': {'alpha': [0.1, 1.0, 10.0]},\n",
       "  'elastic': {'alpha': [0.1, 1.0, 10.0], 'l1_ratio': [0.1, 0.5, 1.0]},\n",
       "  'bayesridge': {},\n",
       "  'sgd': {'loss': ['squared_loss', 'huber'], 'alpha': [0.1, 0.01, 0.001]},\n",
       "  'knn': {'n_neighbors': [3, 5, 7]},\n",
       "  'gpr': {},\n",
       "  'dtr': {'max_depth': [3, 5, 7]},\n",
       "  'rfr': {'n_estimators': [50, 100, 150], 'max_depth': [3, 5, 7]},\n",
       "  'gbr': {'n_estimators': [50, 100, 150], 'max_depth': [3, 5, 7]},\n",
       "  'xgb': {'n_estimators': [50, 100, 150], 'max_depth': [3, 5, 7]},\n",
       "  'poly': {}}}"
      ]
     },
     "execution_count": 1,
     "metadata": {},
     "output_type": "execute_result"
    }
   ],
   "source": [
    "from nicefitbro.models.factory.model_factory import ModelFactory\n",
    "from nicefitbro.models.tune.tuner import HyperparameterTuner\n",
    "from nicefitbro.ingestors.local_ingestor import LocalFileIngestor\n",
    "\n",
    "target = \"medv\"\n",
    "file_path = \"../data/boston_housing.csv\"\n",
    "local_file_ingestor = LocalFileIngestor()\n",
    "\n",
    "mf = ModelFactory(\n",
    "    model_types=[\n",
    "        \"lr\",\"ridge\",\"lasso\",\n",
    "        \"elastic\", \"bayesridge\", \"sgd\",\n",
    "        \"knn\", \"gpr\", \"dtr\",\n",
    "        \"rfr\", \"gbr\", \"xgb\", \"poly\"\n",
    "    ]\n",
    ")\n",
    "\n",
    "models_to_train = mf.get_models_to_train_and_tune()\n",
    "\n",
    "models_to_train"
   ]
  },
  {
   "cell_type": "code",
   "execution_count": 2,
   "id": "e5aef594-266b-402e-b901-83100c8c6efb",
   "metadata": {
    "tags": []
   },
   "outputs": [
    {
     "name": "stdout",
     "output_type": "stream",
     "text": [
      "lr\n",
      "ridge\n",
      "lasso\n",
      "elastic\n",
      "bayesridge\n",
      "sgd\n"
     ]
    },
    {
     "name": "stderr",
     "output_type": "stream",
     "text": [
      "/home/timboslice/.local/share/virtualenvs/nicefitbro-SkxpV1LV/lib/python3.10/site-packages/sklearn/model_selection/_validation.py:378: FitFailedWarning: \n",
      "15 fits failed out of a total of 30.\n",
      "The score on these train-test partitions for these parameters will be set to nan.\n",
      "If these failures are not expected, you can try to debug them by setting error_score='raise'.\n",
      "\n",
      "Below are more details about the failures:\n",
      "--------------------------------------------------------------------------------\n",
      "15 fits failed with the following error:\n",
      "Traceback (most recent call last):\n",
      "  File \"/home/timboslice/.local/share/virtualenvs/nicefitbro-SkxpV1LV/lib/python3.10/site-packages/sklearn/model_selection/_validation.py\", line 686, in _fit_and_score\n",
      "    estimator.fit(X_train, y_train, **fit_params)\n",
      "  File \"/home/timboslice/.local/share/virtualenvs/nicefitbro-SkxpV1LV/lib/python3.10/site-packages/sklearn/linear_model/_stochastic_gradient.py\", line 1583, in fit\n",
      "    self._validate_params()\n",
      "  File \"/home/timboslice/.local/share/virtualenvs/nicefitbro-SkxpV1LV/lib/python3.10/site-packages/sklearn/base.py\", line 581, in _validate_params\n",
      "    validate_parameter_constraints(\n",
      "  File \"/home/timboslice/.local/share/virtualenvs/nicefitbro-SkxpV1LV/lib/python3.10/site-packages/sklearn/utils/_param_validation.py\", line 97, in validate_parameter_constraints\n",
      "    raise InvalidParameterError(\n",
      "sklearn.utils._param_validation.InvalidParameterError: The 'loss' parameter of SGDRegressor must be a str among {'epsilon_insensitive', 'squared_error', 'huber', 'squared_epsilon_insensitive'}. Got 'squared_loss' instead.\n",
      "\n",
      "  warnings.warn(some_fits_failed_message, FitFailedWarning)\n",
      "/home/timboslice/.local/share/virtualenvs/nicefitbro-SkxpV1LV/lib/python3.10/site-packages/sklearn/model_selection/_search.py:952: UserWarning: One or more of the test scores are non-finite: [        nan -1.60064025         nan -5.51702209         nan -3.83196667]\n",
      "  warnings.warn(\n"
     ]
    },
    {
     "name": "stdout",
     "output_type": "stream",
     "text": [
      "knn\n",
      "gpr\n",
      "dtr\n",
      "rfr\n",
      "gbr\n",
      "xgb\n",
      "poly\n"
     ]
    },
    {
     "data": {
      "text/plain": [
       "{'lr': LinearRegression(),\n",
       " 'ridge': Ridge(alpha=0.1),\n",
       " 'lasso': Lasso(alpha=0.1),\n",
       " 'elastic': ElasticNet(alpha=0.1, l1_ratio=1.0),\n",
       " 'bayesridge': BayesianRidge(),\n",
       " 'sgd': SGDRegressor(alpha=0.1, loss='huber'),\n",
       " 'knn': KNeighborsRegressor(n_neighbors=3),\n",
       " 'gpr': GaussianProcessRegressor(),\n",
       " 'dtr': DecisionTreeRegressor(max_depth=7),\n",
       " 'rfr': RandomForestRegressor(max_depth=7),\n",
       " 'gbr': GradientBoostingRegressor(),\n",
       " 'xgb': XGBRegressor(base_score=None, booster=None, callbacks=None,\n",
       "              colsample_bylevel=None, colsample_bynode=None,\n",
       "              colsample_bytree=None, early_stopping_rounds=None,\n",
       "              enable_categorical=False, eval_metric=None, feature_types=None,\n",
       "              gamma=None, gpu_id=None, grow_policy=None, importance_type=None,\n",
       "              interaction_constraints=None, learning_rate=None, max_bin=None,\n",
       "              max_cat_threshold=None, max_cat_to_onehot=None,\n",
       "              max_delta_step=None, max_depth=3, max_leaves=None,\n",
       "              min_child_weight=None, missing=nan, monotone_constraints=None,\n",
       "              n_estimators=150, n_jobs=None, num_parallel_tree=None,\n",
       "              predictor=None, random_state=None, ...),\n",
       " 'poly': Pipeline(steps=[('poly', PolynomialFeatures()), ('linear', LinearRegression())])}"
      ]
     },
     "execution_count": 2,
     "metadata": {},
     "output_type": "execute_result"
    }
   ],
   "source": [
    "boston_housing = local_file_ingestor.ingest_data(file_path)\n",
    "\n",
    "ht = HyperparameterTuner(data=boston_housing, model_factory=mf, target=target)\n",
    "\n",
    "trained_models = ht.train_and_tune_models()\n",
    "\n",
    "trained_models"
   ]
  }
 ],
 "metadata": {
  "kernelspec": {
   "display_name": "Python 3 (ipykernel)",
   "language": "python",
   "name": "python3"
  },
  "language_info": {
   "codemirror_mode": {
    "name": "ipython",
    "version": 3
   },
   "file_extension": ".py",
   "mimetype": "text/x-python",
   "name": "python",
   "nbconvert_exporter": "python",
   "pygments_lexer": "ipython3",
   "version": "3.10.6"
  }
 },
 "nbformat": 4,
 "nbformat_minor": 5
}
