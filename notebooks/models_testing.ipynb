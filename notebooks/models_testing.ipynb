{
 "cells": [
  {
   "cell_type": "code",
   "execution_count": 1,
   "id": "2429b69c-44a7-40a8-8f25-39aeb119195c",
   "metadata": {},
   "outputs": [
    {
     "data": {
      "text/plain": [
       "{'lr': {'R2': 0.7261570836552491, 'RMSE': 4.552364598463049},\n",
       " 'ridge': {'R2': 0.7255285568016758, 'RMSE': 4.5575859193316495},\n",
       " 'lasso': {'R2': 0.7092688666374571, 'RMSE': 4.690639456440541},\n",
       " 'elastic': {'R2': 0.7092688666374571, 'RMSE': 4.690639456440541},\n",
       " 'bayesridge': {'R2': 0.7109084094872568, 'RMSE': 4.677394611643454},\n",
       " 'knn': {'R2': 0.6142568210665578, 'RMSE': 5.403005496623177},\n",
       " 'dtr': {'R2': 0.7968260274091775, 'RMSE': 3.921211953692875},\n",
       " 'rfr': {'R2': 0.8595088582615303, 'RMSE': 3.260699318599244},\n",
       " 'gbr': {'R2': 0.885310882772435, 'RMSE': 2.9460993395230637},\n",
       " 'xgb': {'R2': 0.8792051082510656, 'RMSE': 3.023504130404677},\n",
       " 'poly': {'R2': 0.4405111485516239, 'RMSE': 6.507017882920199}}"
      ]
     },
     "execution_count": 1,
     "metadata": {},
     "output_type": "execute_result"
    }
   ],
   "source": [
    "from nicefitbro.models.factory.model_factory import ModelFactory\n",
    "from nicefitbro.models.factory.data_factory import DataFactory\n",
    "from nicefitbro.models.tune.tuner import HyperparameterTuner \n",
    "from nicefitbro.ingestors.local_ingestor import LocalFileIngestor\n",
    "from nicefitbro.models.train.trainer import ModelTrainer\n",
    "from nicefitbro.models.evaluate.evaluator import ModelEvaluator\n",
    "\n",
    "target = \"medv\"\n",
    "file_path = \"../data/boston_housing.csv\"\n",
    "local_file_ingestor = LocalFileIngestor()\n",
    "boston_housing = local_file_ingestor.ingest_data(file_path)\n",
    "\n",
    "df = DataFactory(boston_housing, target)\n",
    "\n",
    "mf = ModelFactory(\n",
    "    model_types=[\n",
    "        \"lr\",\"ridge\",\"lasso\",\n",
    "        \"elastic\", \"bayesridge\",\n",
    "        \"knn\", \"dtr\",\"rfr\", \n",
    "        \"gbr\", \"xgb\", \"poly\"\n",
    "    ]\n",
    ")\n",
    "\n",
    "ht = HyperparameterTuner(df, mf)\n",
    "\n",
    "tuned_models = ht.tune_hyperparameters()\n",
    "\n",
    "mt = ModelTrainer(df, tuned_models)\n",
    "\n",
    "trained_models = mt.train_models()\n",
    "\n",
    "me = ModelEvaluator(df, trained_models)\n",
    "\n",
    "trained_model_performance = me.evaluate_trained_models()\n",
    "\n",
    "trained_model_performance"
   ]
  }
 ],
 "metadata": {
  "kernelspec": {
   "display_name": "Python 3 (ipykernel)",
   "language": "python",
   "name": "python3"
  },
  "language_info": {
   "codemirror_mode": {
    "name": "ipython",
    "version": 3
   },
   "file_extension": ".py",
   "mimetype": "text/x-python",
   "name": "python",
   "nbconvert_exporter": "python",
   "pygments_lexer": "ipython3",
   "version": "3.10.6"
  }
 },
 "nbformat": 4,
 "nbformat_minor": 5
}
