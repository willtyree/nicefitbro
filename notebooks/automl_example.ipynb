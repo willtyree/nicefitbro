{
 "cells": [
  {
   "cell_type": "code",
   "execution_count": 1,
   "id": "8e44f7c0-d99a-46fd-998f-1b7d74744813",
   "metadata": {
    "tags": []
   },
   "outputs": [
    {
     "data": {
      "text/plain": [
       "{'lr': {'R2': 0.7261570836552491, 'RMSE': 4.552364598463049},\n",
       " 'ridge': {'R2': 0.7255285568016758, 'RMSE': 4.5575859193316495},\n",
       " 'lasso': {'R2': 0.7092688666374571, 'RMSE': 4.690639456440541},\n",
       " 'elastic': {'R2': 0.7092688666374571, 'RMSE': 4.690639456440541},\n",
       " 'bayesridge': {'R2': 0.7109084094872568, 'RMSE': 4.677394611643454},\n",
       " 'knn': {'R2': 0.6142568210665578, 'RMSE': 5.403005496623177},\n",
       " 'dtr': {'R2': 0.7968260274091774, 'RMSE': 3.9212119536928753},\n",
       " 'rfr': {'R2': 0.8665599384663247, 'RMSE': 3.1778207649268135},\n",
       " 'gbr': {'R2': 0.8884887295690838, 'RMSE': 2.904996835270497},\n",
       " 'xgb': {'R2': 0.8792051082510656, 'RMSE': 3.023504130404677},\n",
       " 'poly': {'R2': 0.4405111485516239, 'RMSE': 6.507017882920199}}"
      ]
     },
     "execution_count": 1,
     "metadata": {},
     "output_type": "execute_result"
    }
   ],
   "source": [
    "from nicefitbro.models.auto_model import AutoModel\n",
    "from nicefitbro.ingestors.local_ingestor import LocalFileIngestor\n",
    "\n",
    "target = \"medv\"\n",
    "file_path = \"../data/boston_housing.csv\"\n",
    "\n",
    "local_file_ingestor = LocalFileIngestor()\n",
    "boston_housing = local_file_ingestor.ingest_data(file_path)\n",
    "\n",
    "model_types=[\n",
    "    \"lr\",\"ridge\",\"lasso\",\n",
    "    \"elastic\", \"bayesridge\",\n",
    "    \"knn\", \"dtr\",\"rfr\", \n",
    "    \"gbr\", \"xgb\", \"poly\"\n",
    "]\n",
    "\n",
    "am = AutoModel(boston_housing, model_types, target)\n",
    "\n",
    "am.auto_model()"
   ]
  }
 ],
 "metadata": {
  "kernelspec": {
   "display_name": "Python 3 (ipykernel)",
   "language": "python",
   "name": "python3"
  },
  "language_info": {
   "codemirror_mode": {
    "name": "ipython",
    "version": 3
   },
   "file_extension": ".py",
   "mimetype": "text/x-python",
   "name": "python",
   "nbconvert_exporter": "python",
   "pygments_lexer": "ipython3",
   "version": "3.10.6"
  }
 },
 "nbformat": 4,
 "nbformat_minor": 5
}
